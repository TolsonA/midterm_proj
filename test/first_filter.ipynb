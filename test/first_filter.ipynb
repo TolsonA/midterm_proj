{
 "cells": [
  {
   "cell_type": "markdown",
   "metadata": {},
   "source": [
    "# This notebook gives a filtered data set for every tropical cyclone in the area. This does not count the number of cyclones/storms, but rather the overall data. \n",
    "\n",
    "This is good for an overall picture. It says this is how many times our area has been influenced by a tropical storm. It could be misleading because one cyclone could have many rows showing TS or HU, when it is actually one storm being recorded every six hours. "
   ]
  },
  {
   "cell_type": "code",
   "execution_count": 1,
   "metadata": {},
   "outputs": [],
   "source": [
    "import pandas as pd\n",
    "import numpy as np\n",
    "import matplotlib.pyplot as plt"
   ]
  },
  {
   "cell_type": "code",
   "execution_count": 3,
   "metadata": {},
   "outputs": [],
   "source": [
    "class DataReader:\n",
    "    def __init__(self, file_path):\n",
    "        self.file_path = file_path\n",
    "        self.all_data = None\n",
    "\n",
    "    def read_data(self):\n",
    "        \"\"\"Reads the cyclone data from a file and initializes the all_data attribute.\"\"\"\n",
    "        cyclone_data = []\n",
    "        current_cyclone = None\n",
    "        \"\"\"Taking the headers out and storing them. Always starts with AL if using Atlantic Basin\"\"\"\n",
    "        with open(self.file_path, 'r') as file:\n",
    "            for line in file:\n",
    "                if line.startswith('AL'):\n",
    "                    if current_cyclone is not None:\n",
    "                        cyclone_data.append(current_cyclone)\n",
    "                    current_cyclone = {'header': line.strip(), 'data': []}\n",
    "                else:\n",
    "                    if current_cyclone is not None:\n",
    "                        current_cyclone['data'].append(line.strip().split(','))\n",
    "        if current_cyclone is not None:\n",
    "            cyclone_data.append(current_cyclone)\n",
    "\n",
    "        all_cyclone_dfs = []\n",
    "        \"\"\"I need to turn this into a dataframe and then add in columns. Columns are based on NHC data ref sheet\"\"\"\n",
    "        for cyclone in cyclone_data:\n",
    "            df = pd.DataFrame(cyclone['data'], columns=['Date', 'Time', 'Record', 'Status', 'Latitude', 'Longitude', 'WindSpeed', 'Pressure',\n",
    "                                                        'Rad_34_NE', 'Rad_34_SE', 'Rad_34_SW', 'Rad_34_NW', 'Rad_50_NE', 'Rad_50_SE',\n",
    "                                                        'Rad_50_SW', 'Rad_50_NW', 'Rad_64_NE', 'Rad_64_SE', 'Rad_64_SW', 'Rad_64_NW', 'Rad_maxwnd'])\n",
    "            \n",
    "            \"\"\"I might not have needed to do all of this next part. I am defining each column type. \n",
    "                Time block is necessary to make plotting easier later.\n",
    "                Lat/lon function below referenced here. It takes the letter out allowing for filter later\"\"\"\n",
    "            \n",
    "            df['Date'] = df['Date'].astype(str)\n",
    "            df['Time'] = df['Time'].astype(str)\n",
    "            df['Latitude'] = df['Latitude'].apply(self.convert_lat_lon)\n",
    "            df['Longitude'] = df['Longitude'].apply(self.convert_lat_lon)\n",
    "            df['WindSpeed'] = df['WindSpeed'].astype(int)\n",
    "            df['Pressure'] = df['Pressure'].astype(int)\n",
    "            df['Datetime'] = pd.to_datetime(df['Date'] + ' ' + df['Time'], format='%Y%m%d %H%M')\n",
    "            df.set_index('Datetime', inplace=True)\n",
    "            df['Cyclone'] = cyclone['header']\n",
    "            all_cyclone_dfs.append(df)\n",
    "        self.all_data = pd.concat(all_cyclone_dfs)\n",
    "\n",
    "    \"\"\"The static method means we dont need to input a value to use it. In this case it is used above with \n",
    "        the given data.\"\"\"\n",
    "    @staticmethod\n",
    "    def convert_lat_lon(value):\n",
    "        \"\"\"Converts latitude and longitude to float values.\"\"\"\n",
    "        if 'N' in value or 'E' in value:\n",
    "            return float(value[:-1])\n",
    "        elif 'S' in value or 'W' in value:\n",
    "            return -float(value[:-1])"
   ]
  },
  {
   "cell_type": "code",
   "execution_count": 21,
   "metadata": {},
   "outputs": [],
   "source": [
    "class DataFilter:\n",
    "    def __init__(self, all_data):\n",
    "        self.all_data = all_data\n",
    "        self.filtered_data = None\n",
    "\n",
    "    def filter_data(self, min_lat, max_lat, min_lon, max_lon):\n",
    "        \"\"\"Applies latitude and longitude filters and initializes the filtered_data attribute.\"\"\"\n",
    "        self.filtered_data = self.all_data[(self.all_data['Latitude'] >= min_lat) & (self.all_data['Latitude'] <= max_lat) &\n",
    "                                           (self.all_data['Longitude'] >= min_lon) & (self.all_data['Longitude'] <= max_lon)]\n",
    "        self.filtered_data['Month'] = self.filtered_data.index.month"
   ]
  },
  {
   "cell_type": "code",
   "execution_count": 22,
   "metadata": {},
   "outputs": [],
   "source": [
    "class CycloneCalculator:\n",
    "    def __init__(self, filtered_data):\n",
    "        self.filtered_data = filtered_data\n",
    "        self.cyclones_per_year = None\n",
    "\n",
    "    def calculate_cyclones_per_year(self):\n",
    "        \"\"\"Groups data by year and counts unique cyclones, initializes the cyclones_per_year attribute.\"\"\"\n",
    "        self.cyclones_per_year = self.filtered_data.groupby('Year')['Cyclone'].nunique()\n",
    "        all_years = pd.Series(0, index=np.arange(self.filtered_data['Year'].min(), self.filtered_data['Year'].max() + 1))\n",
    "        self.cyclones_per_year = self.cyclones_per_year.reindex(all_years.index, fill_value=0)\n",
    "        \n",
    "    def get_cyclones_per_year(self):\n",
    "        return self.cyclones_per_year\n"
   ]
  },
  {
   "cell_type": "code",
   "execution_count": 20,
   "metadata": {},
   "outputs": [
    {
     "name": "stdout",
     "output_type": "stream",
     "text": [
      "1852    1\n",
      "1853    1\n",
      "1854    1\n",
      "1855    0\n",
      "1856    0\n",
      "       ..\n",
      "2018    0\n",
      "2019    2\n",
      "2020    1\n",
      "2021    0\n",
      "2022    3\n",
      "Name: Cyclone, Length: 171, dtype: int64\n"
     ]
    },
    {
     "name": "stderr",
     "output_type": "stream",
     "text": [
      "/var/folders/hz/sg34vg_92b77c_hdxw3wkl400000gn/T/ipykernel_11487/969899251.py:10: SettingWithCopyWarning: \n",
      "A value is trying to be set on a copy of a slice from a DataFrame.\n",
      "Try using .loc[row_indexer,col_indexer] = value instead\n",
      "\n",
      "See the caveats in the documentation: https://pandas.pydata.org/pandas-docs/stable/user_guide/indexing.html#returning-a-view-versus-a-copy\n",
      "  self.filtered_data['Year'] = self.filtered_data.index.year\n"
     ]
    }
   ],
   "source": [
    "def main():\n",
    "    file_path = '../data/hurdat2_1851_2023.txt'\n",
    "    min_lat = 27.5\n",
    "    max_lat = 29.4\n",
    "    min_lon = -81.5\n",
    "    max_lon = -78.8\n",
    "\n",
    "    # Reading and converting data\n",
    "    reader = DataReader(file_path)\n",
    "    reader.read_data()\n",
    "    \n",
    "    # Filtering data\n",
    "    filterer = DataFilter(reader.all_data)\n",
    "    filterer.filter_data(min_lat, max_lat, min_lon, max_lon)\n",
    "    \n",
    "    # Calculating cyclones per year\n",
    "    calculator_filtered = CycloneCalculator(filterer.filtered_data)\n",
    "    calculator_filtered.calculate_cyclones_per_year()\n",
    "    \n",
    "        # Calculate cyclones per year\n",
    "    calculator_filtered.calculate_cyclones_per_year()\n",
    "\n",
    "    # View the cyclones_per_year attribute\n",
    "    cyclones_per_year = calculator_filtered.get_cyclones_per_year()\n",
    "    print(cyclones_per_year)\n",
    "    # Calculating trendline and plotting data for filtered data\n",
    "    #plotter_filtered = FilteredTrendlinePlot(calculator_filtered.cyclones_per_year)\n",
    "    #plotter_filtered.calculate_trendline()\n",
    "    #plotter_filtered.plot_cyclone_data()\n",
    "\n",
    "    # Calculating cyclones per year and plotting for unfiltered data\n",
    "    #plotter_unfiltered = NoFilterTrendlinePlot(reader.all_data)\n",
    "    #plotter_unfiltered.calculate_cyclones_per_year()\n",
    "    #plotter_unfiltered.calculate_trendline()\n",
    "    #plotter_unfiltered.plot_cyclone_data()\n",
    "\n",
    "    # Status counts for storms\n",
    "    #status_counts = calculator_filtered.filtered_data['Status'].value_counts()\n",
    "\n",
    "    # Plot the bar chart with labels\n",
    "    #BarChartStatusCountNoFilter.plot_with_labels(status_counts)\n",
    "\n",
    "# Run the main function\n",
    "main()"
   ]
  },
  {
   "cell_type": "code",
   "execution_count": 16,
   "metadata": {},
   "outputs": [
    {
     "ename": "NameError",
     "evalue": "name 'filtered_data' is not defined",
     "output_type": "error",
     "traceback": [
      "\u001b[0;31m---------------------------------------------------------------------------\u001b[0m",
      "\u001b[0;31mNameError\u001b[0m                                 Traceback (most recent call last)",
      "Cell \u001b[0;32mIn[16], line 1\u001b[0m\n\u001b[0;32m----> 1\u001b[0m CycloneCalculator(filtered_data)\n",
      "\u001b[0;31mNameError\u001b[0m: name 'filtered_data' is not defined"
     ]
    }
   ],
   "source": [
    "CycloneCalculator(filtered_data)"
   ]
  }
 ],
 "metadata": {
  "kernelspec": {
   "display_name": "base",
   "language": "python",
   "name": "python3"
  },
  "language_info": {
   "codemirror_mode": {
    "name": "ipython",
    "version": 3
   },
   "file_extension": ".py",
   "mimetype": "text/x-python",
   "name": "python",
   "nbconvert_exporter": "python",
   "pygments_lexer": "ipython3",
   "version": "3.11.7"
  }
 },
 "nbformat": 4,
 "nbformat_minor": 2
}
