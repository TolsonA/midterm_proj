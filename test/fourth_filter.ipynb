{
 "cells": [
  {
   "cell_type": "code",
   "execution_count": null,
   "metadata": {},
   "outputs": [],
   "source": [
    "import pandas as pd\n",
    "import matplotlib.pyplot as plt\n",
    "\n",
    "# Define the file path\n",
    "file_path = 'data/hurdat2_1851_2023.txt'\n",
    "\n",
    "cyclone_data = []\n",
    "current_cyclone = None\n",
    "\n",
    "# Function to convert latitude and longitude to float\n",
    "def convert_lat_lon(value):\n",
    "    if 'N' in value or 'E' in value:\n",
    "        return float(value[:-1])\n",
    "    elif 'S' in value or 'W' in value:\n",
    "        return -float(value[:-1])\n",
    "\n",
    "# Read the file line by line\n",
    "with open(file_path, 'r') as file:\n",
    "    for line in file:\n",
    "        # Check if the line starts with 'AL' indicating a new cyclone\n",
    "        if line.startswith('AL'):\n",
    "            if current_cyclone is not None:\n",
    "                cyclone_data.append(current_cyclone)\n",
    "            current_cyclone = {'header': line.strip(), 'data': []}\n",
    "        else:\n",
    "            if current_cyclone is not None:\n",
    "                current_cyclone['data'].append(line.strip().split(','))\n",
    "\n",
    "# Append the last cyclone\n",
    "if current_cyclone is not None:\n",
    "    cyclone_data.append(current_cyclone)\n",
    "\n",
    "# Process each cyclone's data\n",
    "all_cyclone_dfs = []\n",
    "for cyclone in cyclone_data:\n",
    "    df = pd.DataFrame(cyclone['data'], columns=['Date', 'Time', 'Record', 'Status', 'Latitude', 'Longitude', 'WindSpeed', 'Pressure',\n",
    "                                                'Rad_34_NE', 'Rad_34_SE', 'Rad_34_SW', 'Rad_34_NW', 'Rad_50_NE', 'Rad_50_SE',\n",
    "                                                'Rad_50_SW', 'Rad_50_NW', 'Rad_64_NE', 'Rad_64_SE', 'Rad_64_SW', 'Rad_64_NW', 'maxwnd'])\n",
    "    # Convert data types where necessary\n",
    "    df['Date'] = df['Date'].astype(str)\n",
    "    df['Time'] = df['Time'].astype(str)\n",
    "    df['Latitude'] = df['Latitude'].apply(convert_lat_lon)\n",
    "    df['Longitude'] = df['Longitude'].apply(convert_lat_lon)\n",
    "    df['WindSpeed'] = df['WindSpeed'].astype(int)\n",
    "    df['Pressure'] = df['Pressure'].astype(int)\n",
    "    df['Datetime'] = pd.to_datetime(df['Date'] + ' ' + df['Time'], format='%Y%m%d %H%M')\n",
    "    df.set_index('Datetime', inplace=True)\n",
    "    df['Cyclone'] = cyclone['header']  # Add a column for the cyclone identifier\n",
    "    all_cyclone_dfs.append(df)\n",
    "\n",
    "# Concatenate all cyclone dataframes into a single dataframe\n",
    "all_data = pd.concat(all_cyclone_dfs)\n",
    "\n",
    "# Move the Cyclone column to the first position\n",
    "columns = ['Cyclone'] + [col for col in all_data.columns if col != 'Cyclone']\n",
    "all_data = all_data[columns]\n",
    "\n",
    "# Check unique statuses in the dataset\n",
    "unique_statuses = all_data['Status'].unique()\n",
    "print(\"Unique statuses in the dataset:\", unique_statuses)\n",
    "\n",
    "# Define the latitude and longitude range for filtering\n",
    "min_lat, max_lat = 10.0, 30.0\n",
    "min_lon, max_lon = -90.0, -50.0\n",
    "\n",
    "# Filter the data based on the specified latitude and longitude range\n",
    "filtered_data = all_data[(all_data['Latitude'] >= min_lat) & (all_data['Latitude'] <= max_lat) &\n",
    "                         (all_data['Longitude'] >= min_lon) & (all_data['Longitude'] <= max_lon)]\n",
    "\n",
    "# Filter rows with status 'EX'\n",
    "ex_data = filtered_data.loc[filtered_data['Status'] == ' LO']\n",
    "\n",
    "# Display the first few rows of the data with status 'EX'\n",
    "print(ex_data.head())\n"
   ]
  },
  {
   "cell_type": "code",
   "execution_count": 54,
   "metadata": {},
   "outputs": [
    {
     "name": "stdout",
     "output_type": "stream",
     "text": [
      "                                 Cyclone      Date   Time Record Status  \\\n",
      "0  AL011910,            UNNAMED,     27,  19100826   1200            TD   \n",
      "1  AL011914,            UNNAMED,     19,  19140916   1800            TS   \n",
      "2  AL011915,            UNNAMED,     22,  19150801   0000            TS   \n",
      "3  AL011926,            UNNAMED,     47,  19260728   0000            HU   \n",
      "4  AL011928,            UNNAMED,     46,  19280808   1200            HU   \n",
      "\n",
      "   Latitude  Longitude  WindSpeed  Pressure Rad_34_NE  ... Rad_34_NW  \\\n",
      "0      27.5      -79.0         30      -999      -999  ...      -999   \n",
      "1      29.1      -79.2         55      -999      -999  ...      -999   \n",
      "2      27.9      -79.2         55      -999      -999  ...      -999   \n",
      "3      27.7      -80.0         90      -999      -999  ...      -999   \n",
      "4      27.6      -80.5         70      -999      -999  ...      -999   \n",
      "\n",
      "  Rad_50_NE Rad_50_SE Rad_50_SW Rad_50_NW Rad_64_NE Rad_64_SE Rad_64_SW  \\\n",
      "0      -999      -999      -999      -999      -999      -999      -999   \n",
      "1      -999      -999      -999      -999      -999      -999      -999   \n",
      "2      -999      -999      -999      -999      -999      -999      -999   \n",
      "3      -999      -999      -999      -999      -999      -999      -999   \n",
      "4      -999      -999      -999      -999      -999      -999      -999   \n",
      "\n",
      "  Rad_64_NW maxwnd  \n",
      "0      -999   -999  \n",
      "1      -999   -999  \n",
      "2      -999   -999  \n",
      "3      -999   -999  \n",
      "4      -999   -999  \n",
      "\n",
      "[5 rows x 22 columns]\n",
      "Status\n",
      " TS    56\n",
      " HU    35\n",
      " TD    31\n",
      " SD     4\n",
      " EX     3\n",
      " SS     2\n",
      " LO     1\n",
      "Name: count, dtype: int64\n"
     ]
    },
    {
     "name": "stderr",
     "output_type": "stream",
     "text": [
      "/var/folders/hz/sg34vg_92b77c_hdxw3wkl400000gn/T/ipykernel_15911/2233059429.py:69: SettingWithCopyWarning: \n",
      "A value is trying to be set on a copy of a slice from a DataFrame.\n",
      "Try using .loc[row_indexer,col_indexer] = value instead\n",
      "\n",
      "See the caveats in the documentation: https://pandas.pydata.org/pandas-docs/stable/user_guide/indexing.html#returning-a-view-versus-a-copy\n",
      "  filtered_data['StatusPriority'] = filtered_data['Status'].map(priority_order).fillna(4)\n",
      "/var/folders/hz/sg34vg_92b77c_hdxw3wkl400000gn/T/ipykernel_15911/2233059429.py:72: SettingWithCopyWarning: \n",
      "A value is trying to be set on a copy of a slice from a DataFrame\n",
      "\n",
      "See the caveats in the documentation: https://pandas.pydata.org/pandas-docs/stable/user_guide/indexing.html#returning-a-view-versus-a-copy\n",
      "  filtered_data.sort_values(by=['Cyclone', 'StatusPriority'], inplace=True)\n"
     ]
    },
    {
     "data": {
      "image/png": "[encoded data removed]",
      "text/plain": [
       "<Figure size 1000x600 with 1 Axes>"
      ]
     },
     "metadata": {},
     "output_type": "display_data"
    },
    {
     "name": "stdout",
     "output_type": "stream",
     "text": [
      "Number of unique cyclones in the filtered data: 132\n"
     ]
    }
   ],
   "source": [
    "import pandas as pd\n",
    "import matplotlib.pyplot as plt\n",
    "\n",
    "# Define the file path\n",
    "file_path = '../data/hurdat2_1851_2023.txt'\n",
    "\n",
    "# Initialize variables\n",
    "cyclone_data = []\n",
    "current_cyclone = None\n",
    "\n",
    "# Function to convert latitude and longitude to float\n",
    "def convert_lat_lon(value):\n",
    "    if 'N' in value or 'E' in value:\n",
    "        return float(value[:-1])\n",
    "    elif 'S' in value or 'W' in value:\n",
    "        return -float(value[:-1])\n",
    "\n",
    "# Read the file line by line\n",
    "with open(file_path, 'r') as file:\n",
    "    for line in file:\n",
    "        # Check if the line starts with 'AL' indicating a new cyclone\n",
    "        if line.startswith('AL'):\n",
    "            if current_cyclone is not None:\n",
    "                cyclone_data.append(current_cyclone)\n",
    "            current_cyclone = {'header': line.strip(), 'data': []}\n",
    "        else:\n",
    "            if current_cyclone is not None:\n",
    "                current_cyclone['data'].append(line.strip().split(','))\n",
    "\n",
    "# Append the last cyclone\n",
    "if current_cyclone is not None:\n",
    "    cyclone_data.append(current_cyclone)\n",
    "\n",
    "# Process each cyclone's data\n",
    "all_cyclone_dfs = []\n",
    "for cyclone in cyclone_data:\n",
    "    df = pd.DataFrame(cyclone['data'], columns=['Date', 'Time', 'Record', 'Status', 'Latitude', 'Longitude', 'WindSpeed', 'Pressure',\n",
    "                                                'Rad_34_NE', 'Rad_34_SE', 'Rad_34_SW', 'Rad_34_NW', 'Rad_50_NE', 'Rad_50_SE',\n",
    "                                                'Rad_50_SW', 'Rad_50_NW', 'Rad_64_NE', 'Rad_64_SE', 'Rad_64_SW', 'Rad_64_NW', 'maxwnd'])\n",
    "    # Convert data types where necessary\n",
    "    df['Date'] = df['Date'].astype(str)\n",
    "    df['Time'] = df['Time'].astype(str)\n",
    "    df['Latitude'] = df['Latitude'].apply(convert_lat_lon)\n",
    "    df['Longitude'] = df['Longitude'].apply(convert_lat_lon)\n",
    "    df['WindSpeed'] = df['WindSpeed'].astype(int)\n",
    "    df['Pressure'] = df['Pressure'].astype(int)\n",
    "    df['Datetime'] = pd.to_datetime(df['Date'] + ' ' + df['Time'], format='%Y%m%d %H%M')\n",
    "    df.set_index('Datetime', inplace=True)\n",
    "    df['Cyclone'] = cyclone['header']  # Add a column for the cyclone identifier\n",
    "    all_cyclone_dfs.append(df)\n",
    "\n",
    "# Concatenate all cyclone dataframes into a single dataframe\n",
    "all_data = pd.concat(all_cyclone_dfs)\n",
    "\n",
    "# Move the Cyclone column to the first position\n",
    "columns = ['Cyclone'] + [col for col in all_data.columns if col != 'Cyclone']\n",
    "all_data = all_data[columns]\n",
    "\n",
    "# Define the latitude and longitude range for filtering\n",
    "min_lat, max_lat = 27.5, 29.4\n",
    "min_lon, max_lon = -81.5, -78.8\n",
    "\n",
    "# Filter the data based on the specified latitude and longitude range\n",
    "filtered_data = all_data[(all_data['Latitude'] >= min_lat) & (all_data['Latitude'] <= max_lat) &\n",
    "                         (all_data['Longitude'] >= min_lon) & (all_data['Longitude'] <= max_lon)]\n",
    "\n",
    "# Define the priority order for statuses\n",
    "priority_order = {'HU': 1, 'TS': 2, 'TD': 3}\n",
    "filtered_data['StatusPriority'] = filtered_data['Status'].map(priority_order).fillna(4)\n",
    "\n",
    "# Sort by Cyclone and StatusPriority\n",
    "filtered_data.sort_values(by=['Cyclone', 'StatusPriority'], inplace=True)\n",
    "\n",
    "# Extract the first entry for each cyclone based on priority\n",
    "unique_statuses = filtered_data.groupby('Cyclone').first().reset_index()\n",
    "\n",
    "# Drop the StatusPriority column as it is no longer needed\n",
    "unique_statuses.drop(columns=['StatusPriority'], inplace=True)\n",
    "\n",
    "# Display the first few rows of the filtered data\n",
    "print(unique_statuses.head())\n",
    "\n",
    "# Perform value counts on the 'Status' column within the filtered data\n",
    "status_counts = unique_statuses['Status'].value_counts()\n",
    "print(status_counts)\n",
    "\n",
    "# Plot the value counts\n",
    "status_counts.plot(kind='bar', figsize=(10, 6))\n",
    "plt.title('Counts of Different Storm Statuses within Specified Lat/Lon Range')\n",
    "plt.xlabel('Storm Status')\n",
    "plt.ylabel('Count')\n",
    "plt.show()\n",
    "\n",
    "# Optionally, if you want to count the number of unique cyclones in the filtered data\n",
    "unique_cyclones = unique_statuses['Cyclone'].nunique()\n",
    "print(f\"Number of unique cyclones in the filtered data: {unique_cyclones}\")\n"
   ]
  },
  {
   "cell_type": "code",
   "execution_count": null,
   "metadata": {},
   "outputs": [],
   "source": [
    "all_data"
   ]
  },
  {
   "cell_type": "code",
   "execution_count": 55,
   "metadata": {},
   "outputs": [],
   "source": [
    "new_test = all_data"
   ]
  },
  {
   "cell_type": "code",
   "execution_count": 56,
   "metadata": {},
   "outputs": [],
   "source": [
    "new_test['Month'] = new_test.index.month"
   ]
  },
  {
   "cell_type": "code",
   "execution_count": 57,
   "metadata": {},
   "outputs": [
    {
     "data": {
      "text/plain": [
       "Month\n",
       "1       7\n",
       "2       1\n",
       "3       1\n",
       "4       6\n",
       "5      41\n",
       "6     146\n",
       "7     200\n",
       "8     505\n",
       "9     811\n",
       "10    482\n",
       "11    137\n",
       "12     27\n",
       "Name: Cyclone, dtype: int64"
      ]
     },
     "execution_count": 57,
     "metadata": {},
     "output_type": "execute_result"
    }
   ],
   "source": [
    "cyclones_per_year = new_test.groupby('Month')['Cyclone'].nunique()\n",
    "cyclones_per_year"
   ]
  },
  {
   "cell_type": "code",
   "execution_count": 58,
   "metadata": {},
   "outputs": [],
   "source": [
    "import numpy as np\n",
    "import seaborn as sns"
   ]
  },
  {
   "cell_type": "code",
   "execution_count": null,
   "metadata": {},
   "outputs": [],
   "source": [
    "fig, ax = plt.subplots()\n",
    "sns.barplot(x=cyclones_per_year.index, y=cyclones_per_year)"
   ]
  },
  {
   "cell_type": "code",
   "execution_count": null,
   "metadata": {},
   "outputs": [],
   "source": [
    "filtered_data"
   ]
  },
  {
   "cell_type": "code",
   "execution_count": 59,
   "metadata": {},
   "outputs": [],
   "source": [
    "aoi_months = filtered_data"
   ]
  },
  {
   "cell_type": "code",
   "execution_count": 60,
   "metadata": {},
   "outputs": [
    {
     "name": "stderr",
     "output_type": "stream",
     "text": [
      "/var/folders/hz/sg34vg_92b77c_hdxw3wkl400000gn/T/ipykernel_15911/1425907753.py:1: SettingWithCopyWarning: \n",
      "A value is trying to be set on a copy of a slice from a DataFrame.\n",
      "Try using .loc[row_indexer,col_indexer] = value instead\n",
      "\n",
      "See the caveats in the documentation: https://pandas.pydata.org/pandas-docs/stable/user_guide/indexing.html#returning-a-view-versus-a-copy\n",
      "  aoi_months['Month'] = aoi_months.index.month\n"
     ]
    }
   ],
   "source": [
    "aoi_months['Month'] = aoi_months.index.month"
   ]
  },
  {
   "cell_type": "code",
   "execution_count": 64,
   "metadata": {},
   "outputs": [],
   "source": [
    "aoi_months = aoi_months.groupby('Month')['Cyclone'].nunique()"
   ]
  },
  {
   "cell_type": "code",
   "execution_count": null,
   "metadata": {},
   "outputs": [],
   "source": [
    "all_months = pd.Series(0, index=np.arange(new_test['Month'].min(), new_test['Month'].max() + 1))\n"
   ]
  },
  {
   "cell_type": "code",
   "execution_count": null,
   "metadata": {},
   "outputs": [],
   "source": [
    "aoi_months = aoi_months.reindex(all_months.index, fill_value=0)"
   ]
  },
  {
   "cell_type": "code",
   "execution_count": 63,
   "metadata": {},
   "outputs": [
    {
     "data": {
      "text/plain": [
       "DatetimeIndex(['1910-08-26 12:00:00', '1910-08-26 18:00:00',\n",
       "               '1914-09-16 18:00:00', '1915-08-01 00:00:00',\n",
       "               '1915-08-01 06:00:00', '1915-08-01 12:00:00',\n",
       "               '1915-08-01 18:00:00', '1915-08-02 00:00:00',\n",
       "               '1926-07-28 00:00:00', '1926-07-28 06:00:00',\n",
       "               ...\n",
       "               '1975-10-25 00:00:00', '1975-10-25 06:00:00',\n",
       "               '2005-10-05 12:00:00', '1969-10-03 06:00:00',\n",
       "               '1969-10-03 12:00:00', '1969-10-03 18:00:00',\n",
       "               '1969-10-04 00:00:00', '1969-10-04 06:00:00',\n",
       "               '1969-10-04 12:00:00', '2005-10-24 18:00:00'],\n",
       "              dtype='datetime64[ns]', name='Datetime', length=271, freq=None)"
      ]
     },
     "execution_count": 63,
     "metadata": {},
     "output_type": "execute_result"
    }
   ],
   "source": [
    "aoi_months.index"
   ]
  },
  {
   "cell_type": "code",
   "execution_count": null,
   "metadata": {},
   "outputs": [],
   "source": [
    "cyclones_per_month = cyclones_per_year.reindex(all_years.index, fill_value=0)"
   ]
  },
  {
   "cell_type": "code",
   "execution_count": 91,
   "metadata": {},
   "outputs": [],
   "source": [
    "aoi_months.index = ['May', 'June', 'July', 'August', 'September',\n",
    "               'October', 'November', 'December']"
   ]
  },
  {
   "cell_type": "code",
   "execution_count": 128,
   "metadata": {},
   "outputs": [
    {
     "data": {
      "text/plain": [
       "Text(12, 2, 'Highest Threat is Aug to Oct')"
      ]
     },
     "execution_count": 128,
     "metadata": {},
     "output_type": "execute_result"
    },
    {
     "data": {
      "image/png": "[encoded data removed]",
      "text/plain": [
       "<Figure size 640x480 with 1 Axes>"
      ]
     },
     "metadata": {},
     "output_type": "display_data"
    }
   ],
   "source": [
    "fig, ax = plt.subplots()\n",
    "sns.set_theme(style='whitegrid')\n",
    "sns.barplot(x=aoi_months, y=aoi_months.index)\n",
    "ax.set_title('AOI Historical Average Cyclones per Month')\n",
    "ax.set_xlabel('# of Cyclones')\n",
    "ax.text(12, 2, 'Highest Threat is Aug to Oct', fontsize=18)"
   ]
  },
  {
   "cell_type": "code",
   "execution_count": 111,
   "metadata": {},
   "outputs": [
    {
     "data": {
      "text/plain": [
       "May           4\n",
       "June         10\n",
       "July          9\n",
       "August       35\n",
       "September    31\n",
       "October      37\n",
       "November      5\n",
       "December      1\n",
       "Name: Cyclone, dtype: int64"
      ]
     },
     "execution_count": 111,
     "metadata": {},
     "output_type": "execute_result"
    }
   ],
   "source": [
    "aoi_months"
   ]
  },
  {
   "cell_type": "code",
   "execution_count": null,
   "metadata": {},
   "outputs": [],
   "source": [
    "all_months = pd.Series(0, index=np.arange(new_test['Month'].min(), new_test['Month'].max() + 1))\n"
   ]
  },
  {
   "cell_type": "code",
   "execution_count": null,
   "metadata": {},
   "outputs": [],
   "source": [
    "cyclones_per_month = cyclones_per_year.reindex(all_years.index, fill_value=0)"
   ]
  },
  {
   "cell_type": "code",
   "execution_count": null,
   "metadata": {},
   "outputs": [],
   "source": [
    "unique_statuses.loc[unique_statuses['Status'] == 'TD']"
   ]
  }
 ],
 "metadata": {
  "kernelspec": {
   "display_name": "base",
   "language": "python",
   "name": "python3"
  },
  "language_info": {
   "codemirror_mode": {
    "name": "ipython",
    "version": 3
   },
   "file_extension": ".py",
   "mimetype": "text/x-python",
   "name": "python",
   "nbconvert_exporter": "python",
   "pygments_lexer": "ipython3",
   "version": "3.11.7"
  }
 },
 "nbformat": 4,
 "nbformat_minor": 2
}
