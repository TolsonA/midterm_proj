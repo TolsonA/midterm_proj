{
 "cells": [
  {
   "cell_type": "code",
   "execution_count": 7,
   "metadata": {},
   "outputs": [],
   "source": [
    "import pandas as pd\n",
    "import matplotlib.pyplot as plt\n",
    "import numpy as np\n",
    "import seaborn as sns\n",
    "# Define the file path\n",
    "file_path = '../data/hurdat2_1851_2023.txt'"
   ]
  },
  {
   "cell_type": "code",
   "execution_count": 8,
   "metadata": {},
   "outputs": [
    {
     "name": "stderr",
     "output_type": "stream",
     "text": [
      "/var/folders/hz/sg34vg_92b77c_hdxw3wkl400000gn/T/ipykernel_15002/797672786.py:63: SettingWithCopyWarning: \n",
      "A value is trying to be set on a copy of a slice from a DataFrame.\n",
      "Try using .loc[row_indexer,col_indexer] = value instead\n",
      "\n",
      "See the caveats in the documentation: https://pandas.pydata.org/pandas-docs/stable/user_guide/indexing.html#returning-a-view-versus-a-copy\n",
      "  filtered_data['StatusPriority'] = filtered_data['Status'].map(priority_order).fillna(4)\n",
      "/var/folders/hz/sg34vg_92b77c_hdxw3wkl400000gn/T/ipykernel_15002/797672786.py:66: SettingWithCopyWarning: \n",
      "A value is trying to be set on a copy of a slice from a DataFrame.\n",
      "Try using .loc[row_indexer,col_indexer] = value instead\n",
      "\n",
      "See the caveats in the documentation: https://pandas.pydata.org/pandas-docs/stable/user_guide/indexing.html#returning-a-view-versus-a-copy\n",
      "  filtered_data['Year'] = filtered_data.index.year\n"
     ]
    }
   ],
   "source": [
    "# Initialize variables\n",
    "cyclone_data = []\n",
    "current_cyclone = None\n",
    "\n",
    "# Function to convert latitude and longitude to float\n",
    "def convert_lat_lon(value):\n",
    "    if 'N' in value or 'E' in value:\n",
    "        return float(value[:-1])\n",
    "    elif 'S' in value or 'W' in value:\n",
    "        return -float(value[:-1])\n",
    "\n",
    "# Read the file line by line\n",
    "with open(file_path, 'r') as file:\n",
    "    for line in file:\n",
    "        # Check if the line starts with 'AL' indicating a new cyclone\n",
    "        if line.startswith('AL'):\n",
    "            if current_cyclone is not None:\n",
    "                cyclone_data.append(current_cyclone)\n",
    "            current_cyclone = {'header': line.strip(), 'data': []}\n",
    "        else:\n",
    "            if current_cyclone is not None:\n",
    "                current_cyclone['data'].append(line.strip().split(','))\n",
    "\n",
    "# Append the last cyclone\n",
    "if current_cyclone is not None:\n",
    "    cyclone_data.append(current_cyclone)\n",
    "\n",
    "# Process each cyclone's data\n",
    "all_cyclone_dfs = []\n",
    "for cyclone in cyclone_data:\n",
    "    df = pd.DataFrame(cyclone['data'], columns=['Date', 'Time', 'Record', 'Status', 'Latitude', 'Longitude', 'WindSpeed', 'Pressure',\n",
    "                                                'Rad_34_NE', 'Rad_34_SE', 'Rad_34_SW', 'Rad_34_NW', 'Rad_50_NE', 'Rad_50_SE',\n",
    "                                                'Rad_50_SW', 'Rad_50_NW', 'Rad_64_NE', 'Rad_64_SE', 'Rad_64_SW', 'Rad_64_NW', 'maxwnd'])\n",
    "    # Convert data types where necessary\n",
    "    df['Date'] = df['Date'].astype(str)\n",
    "    df['Time'] = df['Time'].astype(str)\n",
    "    df['Latitude'] = df['Latitude'].apply(convert_lat_lon)\n",
    "    df['Longitude'] = df['Longitude'].apply(convert_lat_lon)\n",
    "    df['WindSpeed'] = df['WindSpeed'].astype(int)\n",
    "    df['Pressure'] = df['Pressure'].astype(int)\n",
    "    df['Datetime'] = pd.to_datetime(df['Date'] + ' ' + df['Time'], format='%Y%m%d %H%M')\n",
    "    df.set_index('Datetime', inplace=True)\n",
    "    df['Cyclone'] = cyclone['header']  # Add a column for the cyclone identifier\n",
    "    all_cyclone_dfs.append(df)\n",
    "\n",
    "# Concatenate all cyclone dataframes into a single dataframe\n",
    "all_data = pd.concat(all_cyclone_dfs)\n",
    "\n",
    "# Move the Cyclone column to the first position\n",
    "columns = ['Cyclone'] + [col for col in all_data.columns if col != 'Cyclone']\n",
    "all_data = all_data[columns]\n",
    "\n",
    "# Define the latitude and longitude range for filtering\n",
    "min_lat, max_lat = 27.5, 29.4\n",
    "min_lon, max_lon = -81.5, -78.8\n",
    "\n",
    "# Filter the data based on the specified latitude and longitude range\n",
    "filtered_data = all_data[(all_data['Latitude'] >= min_lat) & (all_data['Latitude'] <= max_lat) &\n",
    "                         (all_data['Longitude'] >= min_lon) & (all_data['Longitude'] <= max_lon)]\n",
    "\n",
    "# Define the priority order for statuses\n",
    "priority_order = {'HU': 1, 'TS': 2, 'TD': 3}\n",
    "filtered_data['StatusPriority'] = filtered_data['Status'].map(priority_order).fillna(4)\n",
    "\n",
    "# Extract the year from the Datetime column\n",
    "filtered_data['Year'] = filtered_data.index.year\n",
    "\n",
    "# Group by year and count unique cyclones\n",
    "cyclones_per_year = filtered_data.groupby('Year')['Cyclone'].nunique()\n",
    "\n",
    "\n"
   ]
  },
  {
   "cell_type": "code",
   "execution_count": null,
   "metadata": {},
   "outputs": [],
   "source": [
    "# Define the priority order for statuses\n",
    "#new_all_data = all_data['StatusPriority'] = all_data['Status'].map(priority_order).fillna(4)\n",
    "#new_all_data = all_data.sort_values(by=['Cyclone', 'StatusPriority'], inplace=True)"
   ]
  },
  {
   "cell_type": "code",
   "execution_count": 9,
   "metadata": {},
   "outputs": [],
   "source": [
    "# Extract the first entry for each cyclone based on priority\n",
    "greatest_status_per_cyclone = filtered_data.groupby('Cyclone').first().reset_index()"
   ]
  },
  {
   "cell_type": "code",
   "execution_count": 12,
   "metadata": {},
   "outputs": [],
   "source": [
    "aoi_status_counts = greatest_status_per_cyclone['Status'].value_counts()"
   ]
  },
  {
   "cell_type": "code",
   "execution_count": 20,
   "metadata": {},
   "outputs": [
    {
     "data": {
      "text/plain": [
       "Status\n",
       " TS    56\n",
       " HU    35\n",
       " TD    31\n",
       " SD     4\n",
       " EX     3\n",
       " SS     2\n",
       " LO     1\n",
       "Name: count, dtype: int64"
      ]
     },
     "execution_count": 20,
     "metadata": {},
     "output_type": "execute_result"
    }
   ],
   "source": [
    "aoi_status_counts"
   ]
  },
  {
   "cell_type": "code",
   "execution_count": null,
   "metadata": {},
   "outputs": [],
   "source": [
    "# Calculate the trend line\n",
    "z = np.polyfit(cyclones_per_year.index, cyclones_per_year.values, 2)\n",
    "p = np.poly1d(z)\n",
    "\n",
    "# Define the future range for forecasting\n",
    "last_year = cyclones_per_year.index.max()\n",
    "future_years = np.arange(last_year + 1, last_year + 27)\n",
    "\n",
    "# Combine the historical and future years\n",
    "extended_years = np.concatenate((cyclones_per_year.index, future_years))\n",
    "\n",
    "# Calculate the trendline values for the extended range\n",
    "trendline_values = p(extended_years)"
   ]
  },
  {
   "cell_type": "code",
   "execution_count": null,
   "metadata": {},
   "outputs": [],
   "source": [
    "all_years = pd.Series(0, index=np.arange(filtered_data['Year'].min(), filtered_data['Year'].max() + 1))\n",
    "\n",
    "# Reindex the cyclones_per_year series to include all years\n",
    "cyclones_per_year = cyclones_per_year.reindex(all_years.index, fill_value=0)\n",
    "\n",
    "# Calculate the trend line\n",
    "z = np.polyfit(cyclones_per_year.index, cyclones_per_year.values, 2)\n",
    "p = np.poly1d(z)\n",
    "\n",
    "# Define the future range for forecasting\n",
    "last_year = cyclones_per_year.index.max()\n",
    "future_years = np.arange(last_year + 1, last_year + 27)\n",
    "\n",
    "# Combine the historical and future years\n",
    "extended_years = np.concatenate((cyclones_per_year.index, future_years))\n",
    "\n",
    "# Calculate the trendline values for the extended range\n",
    "trendline_values = p(extended_years)\n",
    "\n"
   ]
  },
  {
   "cell_type": "code",
   "execution_count": null,
   "metadata": {},
   "outputs": [],
   "source": [
    "# Plot the total number of cyclones per year with extended trend line\n",
    "plt.figure(figsize=(10, 6))\n",
    "plt.plot(cyclones_per_year.index, cyclones_per_year.values, marker='o', markersize=2, drawstyle='steps', label='Number of Cyclones')\n",
    "plt.plot(extended_years, trendline_values, \"r--\", label='Trend Line')\n",
    "plt.title('Total Number of Cyclones per Year with Forecast (Filtered by Lat/Lon)')\n",
    "plt.xlabel('Year')\n",
    "plt.ylabel('Number of Cyclones')\n",
    "plt.ylim(bottom=0)  # Set y-axis to start at 0\n",
    "plt.legend()\n",
    "plt.grid(True)\n",
    "plt.show()"
   ]
  },
  {
   "cell_type": "code",
   "execution_count": null,
   "metadata": {},
   "outputs": [],
   "source": [
    "smoothed_data = cyclones_per_year.rolling(window=5).mean()\n",
    "\n",
    "plt.figure(figsize=(12, 6))\n",
    "#plt.plot(cyclones_per_year.index, cyclones_per_year.values, 'o', markersize=2, label='Number of Cyclones')\n",
    "plt.plot(smoothed_data.index, smoothed_data.values, label='Smoothed Number of Cyclones')\n",
    "plt.plot(extended_years, trendline_values, \"r--\", label='Trend Line')\n",
    "plt.title('Total Number of Cyclones per Year with Forecast for AOI')\n",
    "plt.xlabel('Year')\n",
    "plt.ylabel('Number of Cyclones')\n",
    "plt.ylim(bottom=0)  # Set y-axis to start at 0\n",
    "plt.legend()\n",
    "plt.grid(True)\n",
    "plt.show()"
   ]
  },
  {
   "cell_type": "code",
   "execution_count": 28,
   "metadata": {},
   "outputs": [
    {
     "data": {
      "image/png": "[encoded data removed]",
      "text/plain": [
       "<Figure size 640x480 with 1 Axes>"
      ]
     },
     "metadata": {},
     "output_type": "display_data"
    }
   ],
   "source": [
    "fig, ax = plt.subplots()\n",
    "sns.barplot(x=aoi_status_counts.index, y=aoi_status_counts)\n",
    "plt.title('Counts of Different Greatest Storm Statuses per Cyclone')\n",
    "plt.xlabel('Storm Status')\n",
    "plt.ylabel('Count')\n",
    "plt.text(3, 40, 'TD = Tropical Depression <34kts\\nTS = Tropical Storm 34-63kts\\nHU = Hurricane >64')\n",
    "plt.show()"
   ]
  }
 ],
 "metadata": {
  "kernelspec": {
   "display_name": "base",
   "language": "python",
   "name": "python3"
  },
  "language_info": {
   "codemirror_mode": {
    "name": "ipython",
    "version": 3
   },
   "file_extension": ".py",
   "mimetype": "text/x-python",
   "name": "python",
   "nbconvert_exporter": "python",
   "pygments_lexer": "ipython3",
   "version": "3.11.7"
  }
 },
 "nbformat": 4,
 "nbformat_minor": 2
}
